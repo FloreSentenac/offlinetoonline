{
 "cells": [
  {
   "cell_type": "code",
   "execution_count": 1,
   "id": "d212abd8-0f0b-4e58-8624-3958e76db596",
   "metadata": {},
   "outputs": [],
   "source": [
    "import polars as pl\n"
   ]
  },
  {
   "cell_type": "code",
   "execution_count": 2,
   "id": "a5438b35-b1bd-4f9d-b602-fd5921b2214c",
   "metadata": {},
   "outputs": [],
   "source": [
    "# Define dtypes\n",
    "train_schema = {\n",
    "    'id': pl.UInt64,\n",
    "    'click': pl.Int8,\n",
    "    'hour': pl.String,\n",
    "    'C1': pl.Int16,\n",
    "    'banner_pos': pl.Int8,\n",
    "    'site_id': pl.Categorical,\n",
    "    'site_domain': pl.Categorical,\n",
    "    'site_category': pl.Categorical,\n",
    "    'app_id': pl.Categorical,\n",
    "    'app_domain': pl.Categorical,\n",
    "    'app_category': pl.Categorical,\n",
    "    'device_id': pl.Categorical,\n",
    "    'device_ip': pl.Categorical,\n",
    "    'device_model': pl.Categorical,\n",
    "    'device_type': pl.Int8,\n",
    "    'device_conn_type': pl.Int8,\n",
    "    'C14': pl.Int16,\n",
    "    'C15': pl.Int16,\n",
    "    'C16': pl.Int16,\n",
    "    'C17': pl.Int16,\n",
    "    'C18': pl.Int16,\n",
    "    'C19': pl.Int16,\n",
    "    'C20': pl.Int32,\n",
    "    'C21': pl.Int16\n",
    "}\n",
    "\n",
    "test_schema = {\n",
    "    'id': pl.UInt64,\n",
    "    'hour': pl.String,\n",
    "    'C1': pl.Int16,\n",
    "    'banner_pos': pl.Int8,\n",
    "    'site_id': pl.Categorical,\n",
    "    'site_domain': pl.Categorical,\n",
    "    'site_category': pl.Categorical,\n",
    "    'app_id': pl.Categorical,\n",
    "    'app_domain': pl.Categorical,\n",
    "    'app_category': pl.Categorical,\n",
    "    'device_id': pl.Categorical,\n",
    "    'device_ip': pl.Categorical,\n",
    "    'device_model': pl.Categorical,\n",
    "    'device_type': pl.Int8,\n",
    "    'device_conn_type': pl.Int8,\n",
    "    'C14': pl.Int16,\n",
    "    'C15': pl.Int16,\n",
    "    'C16': pl.Int16,\n",
    "    'C17': pl.Int16,\n",
    "    'C18': pl.Int16,\n",
    "    'C19': pl.Int16,\n",
    "    'C20': pl.Int32,\n",
    "    'C21': pl.Int16\n",
    "}\n"
   ]
  },
  {
   "cell_type": "code",
   "execution_count": 3,
   "id": "ef763354-6917-4304-8cb5-25b2bb0db6fa",
   "metadata": {},
   "outputs": [],
   "source": [
    "train_df = pl.read_csv('./data/train.gz', schema=train_schema) #train.gz file from the kaggle dataset\n"
   ]
  },
  {
   "cell_type": "code",
   "execution_count": 4,
   "id": "e143f14e-2cd0-49a2-9668-e1a08f4845d9",
   "metadata": {},
   "outputs": [
    {
     "data": {
      "text/plain": [
       "40.428967"
      ]
     },
     "execution_count": 4,
     "metadata": {},
     "output_type": "execute_result"
    }
   ],
   "source": [
    "len(train_df)/1000000"
   ]
  },
  {
   "cell_type": "code",
   "execution_count": 5,
   "id": "1b56e840-01ed-4201-9eda-b876e62a4157",
   "metadata": {},
   "outputs": [],
   "source": [
    "train_df = train_df.sample(n=len(train_df), shuffle=True, seed=42) #shuffle to radomly sample the test and train"
   ]
  },
  {
   "cell_type": "code",
   "execution_count": 9,
   "id": "ec6df2ee-9438-4c6a-8cfe-38720ff3aa6a",
   "metadata": {},
   "outputs": [],
   "source": [
    "train_df_small = train_df[:360000]  #reduce the size of the train set to reduce computation time\n",
    "test_df = train_df[360000:3360000]  # First 10000000 samples for the test set"
   ]
  },
  {
   "cell_type": "code",
   "execution_count": 10,
   "id": "f466014f-d034-42be-ac87-90e4538fda50",
   "metadata": {},
   "outputs": [],
   "source": [
    "test_df.write_csv('data/my_test.csv')"
   ]
  },
  {
   "cell_type": "code",
   "execution_count": 11,
   "id": "b38b1ee1-d75a-421b-88aa-8185a1cbc83b",
   "metadata": {},
   "outputs": [],
   "source": [
    "train_df_small.write_csv('data/my_train.csv')\n"
   ]
  },
  {
   "cell_type": "code",
   "execution_count": null,
   "id": "0634a893-a541-4dad-8f7b-62ea9506ba2d",
   "metadata": {},
   "outputs": [],
   "source": []
  }
 ],
 "metadata": {
  "kernelspec": {
   "display_name": "Python 3 (ipykernel)",
   "language": "python",
   "name": "python3"
  },
  "language_info": {
   "codemirror_mode": {
    "name": "ipython",
    "version": 3
   },
   "file_extension": ".py",
   "mimetype": "text/x-python",
   "name": "python",
   "nbconvert_exporter": "python",
   "pygments_lexer": "ipython3",
   "version": "3.11.10"
  }
 },
 "nbformat": 4,
 "nbformat_minor": 5
}
